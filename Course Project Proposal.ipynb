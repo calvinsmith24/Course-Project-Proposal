{
 "cells": [
  {
   "cell_type": "markdown",
   "id": "c7196abc",
   "metadata": {},
   "source": [
    "Proposal: Examining Family Dynamics and Well-being in Relation to Household Size, Lifestyle Balance, and Social Interaction Anxiety\n",
    "\n",
    "Research question 1: How does the number of children living in a household impact the lifestyle balance of family time among residents? Specifically, does a higher number of children correlate with a lower lifestyle balance score?\n",
    "\n",
    "Variables:\n",
    "\n",
    "1. GEO_housing_live_with_children\n",
    "This discrete numerical variable shows the number of children living in a household. It should impact family dynamics and how time is used in the family. For this variable, a bar plot displaying the count of households with different numbers of children will provide a clear representation of the distribution of families by size.\n",
    "\n",
    "2. LIFESTYLE_time_use_balance_family\n",
    "This categorical variable measures the balance of family time daily. A histogram showing the distribution of lifestyle balance scores will display the shape of the data and the spread, central tendency and potential outliers.\n",
    "\n",
    "Analysis: To see if the number of kids in a household directly affects the lifestyle balance of a family, I will conduct a hypothesis test.\n",
    "\n",
    "Null Hypothesis: There is no difference in lifestyle time use balance scores among households with different numbers of kids.\n",
    "\n",
    "Since I want to compare the balance scores based on the number of children in a family, I will use a one-way test. Using the data, I will find the test statistic, calculate the p-value, and then use that to decide whether to reject or fail to reject the null hypothesis.\n",
    "\n",
    "Assumptions made during the testing are that all observations are independent of eachother, the lifestyle balance scores are normally distributed, and the variance of lifestyle balance scores are roughly equal.\n",
    "\n",
    "Hypothesis: I hypothesize that households with a higher number of children will have a lower average lifestyle balance score, due to increased responsibilities and time commitments.\n",
    "\n",
    "Research Question 2: How does social interaction anxiety impact the lifestyle balance of family time?\n",
    "\n",
    "Variables:\n",
    "\n",
    "1. GEO_housing_live_with_children\n",
    "This discrete numerical variable shows the number of children in each household, ranging from 0 to 10. To display the distribution of family sizes, I will use a bar plot showing the count of households for each number of children.\n",
    "\n",
    "2. PSYCH_social_interactions_anxiety_scale_score\n",
    "This continuous variable measures social anxiety levels. To visualize its distribution, I will use a histogram showing the spread, central tendency, and any outliers in anxiety scores.\n",
    "\n",
    "Analysis: I will conduct a linear regression analysis, using the number of children as the independent variable and social interaction anxiety as the dependent variable. This will determine if a higher number of kids in a household correlates with higher levels of stress.\n",
    "\n",
    "Assumptions made during testing are that a linear relationship exists between the two variables and the variance is consistent among the two variables.\n",
    "\n",
    "Hypothesis: I hypothesize that households with a higher number of children will have higher average social interaction anxiety scores due to increased responsibilities and stress that will reduce chances for social engagement.\n",
    "\n",
    "Research Question 3: Is there an association between lifestyle balance (as it relates to family time) and social interaction anxiety?\n",
    "\n",
    "Variables:\n",
    "\n",
    "1. LIFESTYLE_time_use_balance_family\n",
    "\n",
    "This categorical variable measures the time balance spent with family daily. A bar plot is a good visualisation to use for this variable to show how common each type of balance perception is among households.\n",
    "\n",
    "2. PSYCH_social_interactions_anxiety_scale_score\n",
    "\n",
    "This continuous variable measures social anxiety. A histogram could show the balance of varying anxiety scores across households.\n",
    "\n",
    "Analysis: I will apply bootstrapping to estimate the average social anxiety scores within each lifestyle balance category and compare them. This will allow me to compare the lifestyle balance scores and anxiety scores to see if higher scores in each are correlated.\n",
    "\n",
    "Assumptions made are that the anxiety scores within the lifestyle balance scores are independently distributed.\n",
    "\n",
    "Hypothesis: I hypothesize that those with a 'Just Right' lifestyle balance score will have lower anxiety scores compared to those with 'Too Much' or 'Too Little', due to having greater time management."
   ]
  },
  {
   "cell_type": "code",
   "execution_count": null,
   "id": "792d95a4",
   "metadata": {},
   "outputs": [],
   "source": []
  }
 ],
 "metadata": {
  "kernelspec": {
   "display_name": "Python 3 (ipykernel)",
   "language": "python",
   "name": "python3"
  },
  "language_info": {
   "codemirror_mode": {
    "name": "ipython",
    "version": 3
   },
   "file_extension": ".py",
   "mimetype": "text/x-python",
   "name": "python",
   "nbconvert_exporter": "python",
   "pygments_lexer": "ipython3",
   "version": "3.11.6"
  }
 },
 "nbformat": 4,
 "nbformat_minor": 5
}
